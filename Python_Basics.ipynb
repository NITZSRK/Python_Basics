{
  "nbformat": 4,
  "nbformat_minor": 0,
  "metadata": {
    "colab": {
      "provenance": []
    },
    "kernelspec": {
      "name": "python3",
      "display_name": "Python 3"
    },
    "language_info": {
      "name": "python"
    }
  },
  "cells": [
    {
      "cell_type": "markdown",
      "source": [
        "Python Basic Questions"
      ],
      "metadata": {
        "id": "yCW1ReDID5kV"
      }
    },
    {
      "cell_type": "markdown",
      "source": [
        "1. What is Python, and why is it popular\n",
        "   -  Python is a high-level, interpreted programming language known for simplicity, readability, and vast libraries.\n",
        "\n",
        "2. What is an interpreter in Python\n",
        "   - An interpreter in Python executes code line by line, making debugging easier.\n",
        "\n",
        "3. What are pre-defined keywords in Python ?\n",
        "   - Pre-defined keywords in Python are reserved words with special meaning like if, for, while.\n",
        "\n",
        "4. Can keywords be used as variable names ?\n",
        "   - Keywords cannot be used as variable names as they are reserved.\n",
        "\n",
        "5. What is mutability in Python ?\n",
        "   - Mutability in Python means the ability of an object to be changed after creation.\n",
        "\n",
        "6. Why are lists mutable, but tuples are immutable ?\n",
        "   - Lists are mutable as their elements can be changed, while tuples are immutable as they cannot be modified after creation.\n",
        "\n",
        "7. What is the difference between “==” and “is” operators in Python ?\n",
        "   - “==” checks value equality, while “is” checks if two references point to the same object.\n",
        "\n",
        "8. What are logical operators in Python ?\n",
        "   - Logical operators in Python are and, or, not.\n",
        "\n",
        "9. What is type casting in Python ?\n",
        "   - Type casting changes a variable's data type.\n",
        "\n",
        "10. What is the difference between implicit and explicit type casting ?\n",
        "    - Implicit casting is automatic conversion, explicit casting is done manually using functions like int().\n",
        "\n",
        "11. What is the purpose of conditional statements in Python ?\n",
        "    - Conditional statements control execution flow based on conditions.\n",
        "\n",
        "12. How does the elif statement work?\n",
        "    - elif checks another condition if the previous if was false.\n",
        "\n",
        "13. What is the difference between for and while loops?\n",
        "    -  for loops iterate over sequences, while loops run until a condition becomes false.\n",
        "\n",
        "14. Describe a scenario where a while loop is more suitable than a for loop.\n",
        "    - A while loop is suitable when the number of iterations is unknown, e.g., reading user input until valid."
      ],
      "metadata": {
        "id": "QmL-esupD_C0"
      }
    },
    {
      "cell_type": "code",
      "execution_count": null,
      "metadata": {
        "id": "WClcWT-nbYP7"
      },
      "outputs": [],
      "source": []
    },
    {
      "cell_type": "markdown",
      "source": [
        "Practical Questions"
      ],
      "metadata": {
        "id": "pA9KRpDAD3tZ"
      }
    },
    {
      "cell_type": "code",
      "source": [
        "# Write a Python program to print \"Hello, World!\"\n",
        "\n",
        "print(\"Hello World!\")\n",
        "\n"
      ],
      "metadata": {
        "colab": {
          "base_uri": "https://localhost:8080/"
        },
        "id": "aEn9pixiLH1y",
        "outputId": "8575ef75-930d-4980-ad0a-ba80af5e1e8d"
      },
      "execution_count": 4,
      "outputs": [
        {
          "output_type": "stream",
          "name": "stdout",
          "text": [
            "Hello World!\n"
          ]
        }
      ]
    },
    {
      "cell_type": "code",
      "source": [
        "# Write a Python program that displays your name and age\n",
        "\n",
        "name = \"Nitesh Sarkar\"\n",
        "age = 32\n",
        "\n",
        "print(\"My name is\", name)\n",
        "print(\"I am\", age, \"year old\")"
      ],
      "metadata": {
        "colab": {
          "base_uri": "https://localhost:8080/"
        },
        "id": "ubkxcLIMJXUW",
        "outputId": "02b88638-2bf0-4fc8-8a8e-e2b0d96b4f66"
      },
      "execution_count": 3,
      "outputs": [
        {
          "output_type": "stream",
          "name": "stdout",
          "text": [
            "My name is Nitesh Sarkar\n",
            "I am 32 year old\n"
          ]
        }
      ]
    },
    {
      "cell_type": "code",
      "source": [
        "# Write code to print all the pre-defined keywords in Python using the keyword library8\n",
        "\n",
        "help (\"keywords\")"
      ],
      "metadata": {
        "colab": {
          "base_uri": "https://localhost:8080/"
        },
        "id": "KeJptU09Ky17",
        "outputId": "9747f6d0-3537-4782-8229-8bae0cbe4b87"
      },
      "execution_count": 5,
      "outputs": [
        {
          "output_type": "stream",
          "name": "stdout",
          "text": [
            "\n",
            "Here is a list of the Python keywords.  Enter any keyword to get more help.\n",
            "\n",
            "False               class               from                or\n",
            "None                continue            global              pass\n",
            "True                def                 if                  raise\n",
            "and                 del                 import              return\n",
            "as                  elif                in                  try\n",
            "assert              else                is                  while\n",
            "async               except              lambda              with\n",
            "await               finally             nonlocal            yield\n",
            "break               for                 not                 \n",
            "\n"
          ]
        }
      ]
    },
    {
      "cell_type": "code",
      "source": [
        "# Write a program that checks if a given word is a Python keyword.\n",
        "\n",
        "import keyword\n",
        "\n",
        "word = input(\"Enter a word: \")\n",
        "\n",
        "\n",
        "if keyword.iskeyword(word):\n",
        "    print(f\"'{word}' is a Python keyword.\")\n",
        "else:\n",
        "    print(f\"'{word}' is NOT a Python keyword.\")"
      ],
      "metadata": {
        "colab": {
          "base_uri": "https://localhost:8080/"
        },
        "id": "vMflJaufLmBp",
        "outputId": "d880835b-73dd-4d00-810e-c1ca8e93300f"
      },
      "execution_count": 6,
      "outputs": [
        {
          "output_type": "stream",
          "name": "stdout",
          "text": [
            "Enter a word: else\n",
            "'else' is a Python keyword.\n"
          ]
        }
      ]
    },
    {
      "cell_type": "code",
      "source": [
        "# Create a list and tuple in Python, and demonstrate how attempting to change an element works differently for each.\n",
        "\n",
        "my_list = [1, 2, 3]\n",
        "my_tuple = (1, 2, 3)\n",
        "\n",
        "print(\"Original list:\", my_list)\n",
        "print(\"Original tuple:\", my_tuple)\n",
        "\n",
        "my_list[1] = 99\n",
        "print(\"Modified list:\", my_list)\n",
        "\n",
        "try:\n",
        "    my_tuple[1] = 99\n",
        "except TypeError as e:\n",
        "    print(\"Error when modifying tuple:\", e)"
      ],
      "metadata": {
        "colab": {
          "base_uri": "https://localhost:8080/"
        },
        "id": "fRoPRQrDNQd2",
        "outputId": "6b87cd46-3a18-4732-d2a0-41139c86bc02"
      },
      "execution_count": 8,
      "outputs": [
        {
          "output_type": "stream",
          "name": "stdout",
          "text": [
            "Original list: [1, 2, 3]\n",
            "Original tuple: (1, 2, 3)\n",
            "Modified list: [1, 99, 3]\n",
            "Error when modifying tuple: 'tuple' object does not support item assignment\n"
          ]
        }
      ]
    },
    {
      "cell_type": "code",
      "source": [
        "# Write a function to demonstrate the behavior of mutable and immutable arguments\n",
        "\n",
        "def modify_values(num, items):\n",
        "  num += 5\n",
        "  items.append(4)\n",
        "  print(\"Inside function:\", num, items)\n",
        "x = 10\n",
        "my_list = [1, 2, 3]\n",
        "modify_values(x, my_list)\n",
        "\n",
        "print(\"Outside function:\", x, my_list)"
      ],
      "metadata": {
        "colab": {
          "base_uri": "https://localhost:8080/"
        },
        "id": "mUyR-BbLO3a2",
        "outputId": "a6435375-4b5f-49bf-adb2-91c6d469f514"
      },
      "execution_count": 10,
      "outputs": [
        {
          "output_type": "stream",
          "name": "stdout",
          "text": [
            "Inside function: 15 [1, 2, 3, 4]\n",
            "Outside function: 10 [1, 2, 3, 4]\n"
          ]
        }
      ]
    },
    {
      "cell_type": "code",
      "source": [
        "#  Write a program that performs basic arithmetic operations on two user-input numbers.\n",
        "\n",
        "\n",
        "a = int(input(\"Enter Your Value:\" ))\n",
        "b = int(input(\"Enter Your Value:\" ))\n",
        "\n",
        "print(a + b)"
      ],
      "metadata": {
        "colab": {
          "base_uri": "https://localhost:8080/"
        },
        "id": "DJSkRs48QZDE",
        "outputId": "12eb42df-8384-4028-c5aa-1891c338a29e"
      },
      "execution_count": 11,
      "outputs": [
        {
          "output_type": "stream",
          "name": "stdout",
          "text": [
            "Enter Your Value:2\n",
            "Enter Your Value:2\n",
            "4\n"
          ]
        }
      ]
    },
    {
      "cell_type": "code",
      "source": [
        "# Write a program to demonstrate the use of logical operators\n",
        "\n",
        "a = True\n",
        "b = False\n",
        "\n",
        "print(a and b)\n",
        "print(a or b)\n",
        "print(not a)"
      ],
      "metadata": {
        "colab": {
          "base_uri": "https://localhost:8080/"
        },
        "id": "kkzX2R9ySyLK",
        "outputId": "3c427dee-7f43-4f6e-c23c-462023b28cec"
      },
      "execution_count": 13,
      "outputs": [
        {
          "output_type": "stream",
          "name": "stdout",
          "text": [
            "False\n",
            "True\n",
            "False\n"
          ]
        }
      ]
    },
    {
      "cell_type": "code",
      "source": [
        "# Write a Python program to convert user input from string to integer, float, and boolean types.\n",
        "\n",
        "user_input = input(\"Enter something: \")\n",
        "\n",
        "if user_input == \"\":\n",
        "    int_value = None\n",
        "    float_value = None\n",
        "else:\n",
        "    int_value = user_input\n",
        "    float_value = user_input\n",
        "\n",
        "if user_input == \"\":\n",
        "    bool_value = False\n",
        "else:\n",
        "    bool_value = True\n",
        "\n",
        "print(\"Integer:\", int_value)\n",
        "print(\"Float:\", float_value)\n",
        "print(\"Boolean:\", bool_value)"
      ],
      "metadata": {
        "colab": {
          "base_uri": "https://localhost:8080/"
        },
        "id": "LY1IdvYzUt1d",
        "outputId": "38075693-1018-4af3-a4ab-de64a60c5dde"
      },
      "execution_count": 17,
      "outputs": [
        {
          "output_type": "stream",
          "name": "stdout",
          "text": [
            "Enter something: 0\n",
            "Integer: 0\n",
            "Float: 0\n",
            "Boolean: True\n"
          ]
        }
      ]
    },
    {
      "cell_type": "code",
      "source": [
        "# Write code to demonstrate type casting with list elements.\n",
        "\n",
        "values = [\"10\", \"20\", \"30\"]\n",
        "\n",
        "ints = [int(x) for x in values]\n",
        "floats = [float(x) for x in values]\n",
        "bools = [bool(x) for x in values]\n",
        "\n",
        "print(\"As integers:\", ints)\n",
        "print(\"As floats:\", floats)\n",
        "print(\"As booleans:\", bools)"
      ],
      "metadata": {
        "colab": {
          "base_uri": "https://localhost:8080/"
        },
        "id": "zwqU_T8SUz6q",
        "outputId": "9db936a2-47ac-40b9-cb2f-3e28386ddca3"
      },
      "execution_count": 19,
      "outputs": [
        {
          "output_type": "stream",
          "name": "stdout",
          "text": [
            "As integers: [10, 20, 30]\n",
            "As floats: [10.0, 20.0, 30.0]\n",
            "As booleans: [True, True, True]\n"
          ]
        }
      ]
    },
    {
      "cell_type": "code",
      "source": [
        "# Write a program that checks if a number is positive, negative, or zero.\n",
        "\n",
        "a = int(input(\"Enter a Number: \"))\n",
        "\n",
        "if a > 0:\n",
        "    print(\"Number is Positive\")\n",
        "elif a < 0:\n",
        "    print(\"Number is Negative\")\n",
        "else:\n",
        "    print(\"Number is Zero\")\n",
        "print()"
      ],
      "metadata": {
        "colab": {
          "base_uri": "https://localhost:8080/"
        },
        "id": "72JYcow8aF8f",
        "outputId": "320a7739-f0ef-471e-d43e-d2a6d591e5b3"
      },
      "execution_count": 20,
      "outputs": [
        {
          "output_type": "stream",
          "name": "stdout",
          "text": [
            "Enter a Number: -7\n",
            "Number is Negative\n",
            "\n"
          ]
        }
      ]
    },
    {
      "cell_type": "code",
      "source": [
        "# Write a for loop to print numbers from 1 to 10.\n",
        "\n",
        "for i in range(11):\n",
        "  print(i)"
      ],
      "metadata": {
        "colab": {
          "base_uri": "https://localhost:8080/"
        },
        "id": "xZBJM0r4blCA",
        "outputId": "fe5e4ad3-b2e5-4adc-d095-3037802ece32"
      },
      "execution_count": 22,
      "outputs": [
        {
          "output_type": "stream",
          "name": "stdout",
          "text": [
            "0\n",
            "1\n",
            "2\n",
            "3\n",
            "4\n",
            "5\n",
            "6\n",
            "7\n",
            "8\n",
            "9\n",
            "10\n"
          ]
        }
      ]
    },
    {
      "cell_type": "code",
      "source": [
        "# Write a Python program to find the sum of all even numbers between 1 and 50.\n",
        "\n",
        "print(\"Sum of all even numbers between 1 and 50 is:\", sum(range(2, 51, 2)))\n",
        "\n"
      ],
      "metadata": {
        "colab": {
          "base_uri": "https://localhost:8080/"
        },
        "id": "nsNVxb8Mb8YC",
        "outputId": "e4185222-a552-42ef-98f7-a4dce51f0cab"
      },
      "execution_count": 1,
      "outputs": [
        {
          "output_type": "stream",
          "name": "stdout",
          "text": [
            "Sum of all even numbers between 1 and 50 is: 650\n"
          ]
        }
      ]
    },
    {
      "cell_type": "code",
      "source": [
        "# Write a program to reverse a string using a while loop.\n",
        "\n",
        "text = input(\"Enter a string: \")\n",
        "reversed_text = \"\"\n",
        "i = len(text) - 1\n",
        "\n",
        "while i >= 0:\n",
        "    reversed_text += text[i]\n",
        "    i -= 1\n",
        "\n",
        "print(\"Reversed string:\", reversed_text)"
      ],
      "metadata": {
        "colab": {
          "base_uri": "https://localhost:8080/"
        },
        "id": "rxC1AJXLgTym",
        "outputId": "b8ba70c3-f598-445c-f1c0-7933d0a3f7e6"
      },
      "execution_count": 2,
      "outputs": [
        {
          "output_type": "stream",
          "name": "stdout",
          "text": [
            "Enter a string: Nitesh\n",
            "Reversed string: hsetiN\n"
          ]
        }
      ]
    },
    {
      "cell_type": "code",
      "source": [
        "# Write a Python program to calculate the factorial of a number provided by the user using a while loop.\n",
        "\n",
        "n = int(input(\"Enter a number: \"))\n",
        "factorial = 1\n",
        "\n",
        "while n > 0:\n",
        "    factorial *= n\n",
        "    n -= 1\n",
        "\n",
        "print(\"Factorial:\", factorial)"
      ],
      "metadata": {
        "colab": {
          "base_uri": "https://localhost:8080/"
        },
        "id": "61n0zqf1hCyP",
        "outputId": "d40f71d1-3a8d-4a2c-eb7e-f367dcc7a955"
      },
      "execution_count": 3,
      "outputs": [
        {
          "output_type": "stream",
          "name": "stdout",
          "text": [
            "Enter a number: 5\n",
            "Factorial: 120\n"
          ]
        }
      ]
    }
  ]
}